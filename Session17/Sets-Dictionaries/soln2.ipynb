{
 "cells": [
  {
   "cell_type": "markdown",
   "metadata": {},
   "source": [
    "You have word frequency data from multiple servers. Each server processes text data and returns a dictionary where the keys are words and the values are their frequencies. Your task is to merge these dictionaries into a single dictionary that contains all the words and their combined frequencies from all servers.\n",
    "\n",
    "**Requirements:**\n",
    "\n",
    "1. **Implement Two Functions:**\n",
    "\n",
    "   - **a. Using `defaultdict`:** Implement a function named `merge_with_defaultdict(*dicts)` that merges the dictionaries using `collections.defaultdict`.\n",
    "   - **b. Using `Counter`:** Implement a function named `merge_with_counter(*dicts)` that merges the dictionaries using `collections.Counter`.\n",
    "\n",
    "2. **Sorting (Bonus):**\n",
    "\n",
    "   - **Optional:** For bonus points, return the merged dictionary sorted by frequency in descending order (highest to lowest).\n",
    "\n",
    "**Constraints:**\n",
    "\n",
    "- You may receive any number of dictionaries as input.\n",
    "- The words are strings, and frequencies are integers.\n",
    "- The functions should handle an arbitrary number of dictionaries.\n",
    "- **Do not use the provided example solution in your implementation.** Write your own code for both functions.\n",
    "\n",
    "**Examples:**\n",
    "\n",
    "Given the following dictionaries from three servers:\n",
    "\n",
    "```python\n",
    "d1 = {'python': 10, 'java': 3, 'c#': 8, 'javascript': 15}\n",
    "d2 = {'java': 10, 'c++': 10, 'c#': 4, 'go': 9, 'python': 6}\n",
    "d3 = {'erlang': 5, 'haskell': 2, 'python': 1, 'pascal': 1}\n",
    "```\n",
    "\n",
    "- **Merging all three dictionaries:**\n",
    "\n",
    "  ```python\n",
    "  result = {\n",
    "      'python': 17,\n",
    "      'javascript': 15,\n",
    "      'java': 13,\n",
    "      'c#': 12,\n",
    "      'c++': 10,\n",
    "      'go': 9,\n",
    "      'erlang': 5,\n",
    "      'haskell': 2,\n",
    "      'pascal': 1\n",
    "  }\n",
    "  ```\n",
    "\n",
    "- **Merging only `d1` and `d2`:**\n",
    "\n",
    "  ```python\n",
    "  result = {\n",
    "      'python': 16,\n",
    "      'javascript': 15,\n",
    "      'java': 13,\n",
    "      'c#': 12,\n",
    "      'c++': 10,\n",
    "      'go': 9\n",
    "  }\n",
    "\n",
    "\n",
    "  **Instructions:**\n",
    "\n",
    "1. **Implement the Functions:**\n",
    "\n",
    "   - Write your functions in a file named `student_merge.py`.\n",
    "   - Ensure that your functions accept any number of dictionaries and merge them correctly.\n",
    "   - For the bonus, ensure the returned dictionary is sorted by frequency in descending order.\n",
    "\n",
    "2. **Testing:**\n",
    "\n",
    "   - A test file using `pytest` is provided below.\n",
    "   - Make sure your implementations pass all the tests when running `pytest`.\n",
    "\n",
    "3. **Submission:**\n",
    "\n",
    "   - Submit your implementation in the `student_merge.py` file.\n",
    "   - Use GitHub Actions to automatically run the tests upon submission.\n",
    "\n",
    "**Provided Test File (`test_merge.py`):**\n",
    "\n",
    "**Notes:**\n",
    "\n",
    "- **Naming Conventions:** Ensure your functions are named exactly as specified: `merge_with_defaultdict` and `merge_with_counter`.\n",
    "- **Imports:** In your `student_merge.py`, you will need to import `defaultdict` and `Counter` from the `collections` module.\n",
    "- **Testing Locally:** Run the tests locally before submitting by installing `pytest` (`pip install pytest`) and running `pytest test_merge.py`.\n",
    "- **Sorting (Bonus):** If you choose to implement the bonus sorting feature, ensure that the returned dictionary is sorted by frequency in descending order. The tests assume that the dictionary is sorted.\n",
    "- **Edge Cases:** Make sure to handle edge cases such as empty inputs and negative counts.\n",
    "- **No Side Effects:** Your functions should not modify the original dictionaries passed in as arguments.\n",
    "\n",
    "**Good Luck!**"
   ]
  },
  {
   "cell_type": "code",
   "execution_count": 3,
   "metadata": {},
   "outputs": [],
   "source": [
    "from collections import defaultdict\n",
    "from collections import Counter\n",
    "\n",
    "def merge_with_defaultdict(*dict:dict):\n",
    "    '''Takes in various dicts as inputs and merges them'''\n",
    "    pass\n",
    "\n",
    "\n"
   ]
  },
  {
   "cell_type": "code",
   "execution_count": 6,
   "metadata": {},
   "outputs": [],
   "source": [
    "d1 = {'a': 1, 'b': 2}\n",
    "d2 = {'b': 20, 'c': 3}\n",
    "d3 = {'c': 30, 'd': 4}\n",
    "\n",
    "\n",
    "a = defaultdict(int)"
   ]
  },
  {
   "cell_type": "code",
   "execution_count": 10,
   "metadata": {},
   "outputs": [
    {
     "ename": "AttributeError",
     "evalue": "'dict' object has no attribute 'merge'",
     "output_type": "error",
     "traceback": [
      "\u001b[1;31m---------------------------------------------------------------------------\u001b[0m",
      "\u001b[1;31mAttributeError\u001b[0m                            Traceback (most recent call last)",
      "Cell \u001b[1;32mIn[10], line 1\u001b[0m\n\u001b[1;32m----> 1\u001b[0m \u001b[43md1\u001b[49m\u001b[38;5;241;43m.\u001b[39;49m\u001b[43mmerge\u001b[49m(d2)\n",
      "\u001b[1;31mAttributeError\u001b[0m: 'dict' object has no attribute 'merge'"
     ]
    }
   ],
   "source": [
    "d1.merge(d2)"
   ]
  },
  {
   "cell_type": "code",
   "execution_count": 9,
   "metadata": {},
   "outputs": [
    {
     "data": {
      "text/plain": [
       "{'a', 'b', 'c', 'd'}"
      ]
     },
     "execution_count": 9,
     "metadata": {},
     "output_type": "execute_result"
    }
   ],
   "source": [
    "{*d1, *d2, *d3}"
   ]
  },
  {
   "cell_type": "code",
   "execution_count": null,
   "metadata": {},
   "outputs": [],
   "source": [
    "d1 = {'python': 10, 'java': 3, 'c#': 8, 'javascript': 15}\n",
    "d2 = {'java': 10, 'c++': 10, 'c#': 4, 'go': 9, 'python': 6}\n",
    "d3 = {'erlang': 5, 'haskell': 2, 'python': 1, 'pascal': 1}\n",
    "\n",
    "# - **Merging all three dictionaries:**\n",
    "result = {\n",
    "    'python': 17,\n",
    "    'javascript': 15,\n",
    "    'java': 13,\n",
    "    'c#': 12,\n",
    "    'c++': 10,\n",
    "    'go': 9,\n",
    "    'erlang': 5,\n",
    "    'haskell': 2,\n",
    "    'pascal': 1\n",
    "}\n",
    "\n",
    "\n",
    "d1 = {'a': 1, 'b': 2, 'c': 3, 'd': 4}\n",
    "d2 = {'a': 10, 'b': 20, 'c': 30, 'e': 5}\n",
    "union = d1.keys() | d2.keys()\n",
    "intersection = d1.keys() & d2.keys()\n",
    "keys = union - intersection\n",
    "\n",
    "result = {}\n",
    "for key in keys:\n",
    "    result[key] = d1.get(key) or d2.get(key)\n",
    "print(result)\n",
    "\n",
    "# edge cases\n",
    "\n",
    "# empty dicts\n",
    "# only 1 dict\n",
    "# negative elements"
   ]
  },
  {
   "cell_type": "code",
   "execution_count": 9,
   "metadata": {},
   "outputs": [],
   "source": [
    "from collections import defaultdict, Counter\n",
    "\n",
    "def merge_dicts(*args):\n",
    "    merged_dicts = defaultdict(int)\n",
    "    for dicts in args:\n",
    "        for key in dicts.keys():\n",
    "            merged_dicts[key] += dicts.get(key)\n",
    "    return merged_dicts\n"
   ]
  },
  {
   "cell_type": "code",
   "execution_count": 13,
   "metadata": {},
   "outputs": [],
   "source": [
    "from collections import defaultdict, Counter\n",
    "\n",
    "def merge_with_defaultdict(*args):\n",
    "    merged_dicts = defaultdict(int)\n",
    "    for dicts in args:\n",
    "        for key in dicts.keys():\n",
    "            merged_dicts[key] += dicts.get(key)\n",
    "    return merged_dicts\n",
    "\n",
    "\n",
    "def merge_with_counter(*args):\n",
    "    merged_dicts = Counter()\n",
    "    for dicts in args:\n",
    "        for key in dicts.keys():\n",
    "            merged_dicts[key] += dicts.get(key)\n",
    "    return merged_dicts"
   ]
  },
  {
   "cell_type": "code",
   "execution_count": 15,
   "metadata": {},
   "outputs": [],
   "source": [
    "merge_with_counter\n",
    "\n",
    "\n",
    "d1 = {'python': 10, 'java': 3, 'c#': 8, 'javascript': 15}\n",
    "d2 = {'java': 10, 'c++': 10, 'c#': 4, 'go': 9, 'python': 6}\n",
    "d3 = {'erlang': 5, 'haskell': 2, 'python': 1, 'pascal': 1}\n",
    "\n",
    "dd = merge_with_defaultdict(d1,d2, d3)\n",
    "\n",
    "counter = merge_with_counter(d1,d2, d3)"
   ]
  },
  {
   "cell_type": "code",
   "execution_count": 17,
   "metadata": {},
   "outputs": [
    {
     "data": {
      "text/plain": [
       "Counter({'python': 17,\n",
       "         'java': 13,\n",
       "         'c#': 12,\n",
       "         'javascript': 15,\n",
       "         'c++': 10,\n",
       "         'go': 9,\n",
       "         'erlang': 5,\n",
       "         'haskell': 2,\n",
       "         'pascal': 1})"
      ]
     },
     "execution_count": 17,
     "metadata": {},
     "output_type": "execute_result"
    }
   ],
   "source": [
    "counter"
   ]
  }
 ],
 "metadata": {
  "kernelspec": {
   "display_name": "dl",
   "language": "python",
   "name": "python3"
  },
  "language_info": {
   "codemirror_mode": {
    "name": "ipython",
    "version": 3
   },
   "file_extension": ".py",
   "mimetype": "text/x-python",
   "name": "python",
   "nbconvert_exporter": "python",
   "pygments_lexer": "ipython3",
   "version": "3.9.15"
  }
 },
 "nbformat": 4,
 "nbformat_minor": 2
}
